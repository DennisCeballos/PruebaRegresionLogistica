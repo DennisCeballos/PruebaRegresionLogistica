{
  "nbformat": 4,
  "nbformat_minor": 0,
  "metadata": {
    "colab": {
      "provenance": [],
      "authorship_tag": "ABX9TyOr8kr1nVnDUl+H8qGm2+QY",
      "include_colab_link": true
    },
    "kernelspec": {
      "name": "python3",
      "display_name": "Python 3"
    },
    "language_info": {
      "name": "python"
    }
  },
  "cells": [
    {
      "cell_type": "markdown",
      "metadata": {
        "id": "view-in-github",
        "colab_type": "text"
      },
      "source": [
        "<a href=\"https://colab.research.google.com/github/DennisCeballos/PruebaRegresionLogistica/blob/main/Actividad%20Regresion%20Logistica.ipynb\" target=\"_parent\"><img src=\"https://colab.research.google.com/assets/colab-badge.svg\" alt=\"Open In Colab\"/></a>"
      ]
    },
    {
      "cell_type": "markdown",
      "source": [
        "# Predicción de Abandono de Estudiantes en un Curso en Línea\n",
        "Dennis Andre Ceballos Manrique\n",
        "\n",
        "> Contexto: Una plataforma de educación en línea quiere predecir si un estudiante abandonará un curso antes de completarlo. La plataforma tiene acceso a datos históricos que incluyen **la cantidad de horas** que el estudiante dedica semanalmente al curso, el **número de evaluaciones completadas**, las **calificaciones obtenidas en los primeros exámenes**, y la **participación en foros de discusión**.\n",
        "\n",
        "Decision de preprocesamiento:\n",
        "Dado que las variables con las que se tratan son, en pocas palabras, resultados del rendimiento de estudiantes, entonces se trata de que cada variable sea manejada como porcentaje. Por ende, se debe aplicar NORMALIZACION a los datos."
      ],
      "metadata": {
        "id": "vRvV32qjPFM2"
      }
    },
    {
      "cell_type": "markdown",
      "source": [
        "## Generación del Modelo"
      ],
      "metadata": {
        "id": "JJAQqfmBUQNP"
      }
    },
    {
      "cell_type": "code",
      "execution_count": null,
      "metadata": {
        "colab": {
          "base_uri": "https://localhost:8080/",
          "height": 699
        },
        "id": "Rnl7qhx0O9bT",
        "outputId": "b0ebb087-03d4-4574-9970-730f51f47025"
      },
      "outputs": [
        {
          "output_type": "stream",
          "name": "stdout",
          "text": [
            "Data SIN procesamiento\n",
            "   hours_per_week  evaluations_completed  exam_scores  forum_participation  \\\n",
            "0       13.528105                      3           77                    1   \n",
            "1       10.800314                      4           54                    7   \n",
            "2       11.957476                      4           72                    0   \n",
            "3       14.481786                      2           87                    2   \n",
            "4       13.735116                      4           85                    9   \n",
            "\n",
            "   dropped_out  \n",
            "0            0  \n",
            "1            0  \n",
            "2            0  \n",
            "3            0  \n",
            "4            1  \n",
            "\n",
            " -- Data CON PRE-PROCESAMIENTO\n",
            "   hours_per_week  evaluations_completed  exam_scores  forum_participation  \\\n",
            "0       13.528105                      3           77                    1   \n",
            "1       10.800314                      4           54                    7   \n",
            "2       11.957476                      4           72                    0   \n",
            "3       14.481786                      2           87                    2   \n",
            "4       13.735116                      4           85                    9   \n",
            "\n",
            "   dropped_out  hours_per_week_prepro  evaluations_completed_prepro  \\\n",
            "0            0               0.829548                      0.666667   \n",
            "1            0               0.580153                      1.000000   \n",
            "2            0               0.685949                      1.000000   \n",
            "3            0               0.916741                      0.333333   \n",
            "4            1               0.848474                      1.000000   \n",
            "\n",
            "   exam_scores_prepro  forum_participation_prepro  \n",
            "0                0.77                    0.111111  \n",
            "1                0.54                    0.777778  \n",
            "2                0.72                    0.000000  \n",
            "3                0.87                    0.222222  \n",
            "4                0.85                    1.000000  \n"
          ]
        },
        {
          "output_type": "execute_result",
          "data": {
            "text/plain": [
              "LogisticRegression()"
            ],
            "text/html": [
              "<style>#sk-container-id-8 {color: black;}#sk-container-id-8 pre{padding: 0;}#sk-container-id-8 div.sk-toggleable {background-color: white;}#sk-container-id-8 label.sk-toggleable__label {cursor: pointer;display: block;width: 100%;margin-bottom: 0;padding: 0.3em;box-sizing: border-box;text-align: center;}#sk-container-id-8 label.sk-toggleable__label-arrow:before {content: \"▸\";float: left;margin-right: 0.25em;color: #696969;}#sk-container-id-8 label.sk-toggleable__label-arrow:hover:before {color: black;}#sk-container-id-8 div.sk-estimator:hover label.sk-toggleable__label-arrow:before {color: black;}#sk-container-id-8 div.sk-toggleable__content {max-height: 0;max-width: 0;overflow: hidden;text-align: left;background-color: #f0f8ff;}#sk-container-id-8 div.sk-toggleable__content pre {margin: 0.2em;color: black;border-radius: 0.25em;background-color: #f0f8ff;}#sk-container-id-8 input.sk-toggleable__control:checked~div.sk-toggleable__content {max-height: 200px;max-width: 100%;overflow: auto;}#sk-container-id-8 input.sk-toggleable__control:checked~label.sk-toggleable__label-arrow:before {content: \"▾\";}#sk-container-id-8 div.sk-estimator input.sk-toggleable__control:checked~label.sk-toggleable__label {background-color: #d4ebff;}#sk-container-id-8 div.sk-label input.sk-toggleable__control:checked~label.sk-toggleable__label {background-color: #d4ebff;}#sk-container-id-8 input.sk-hidden--visually {border: 0;clip: rect(1px 1px 1px 1px);clip: rect(1px, 1px, 1px, 1px);height: 1px;margin: -1px;overflow: hidden;padding: 0;position: absolute;width: 1px;}#sk-container-id-8 div.sk-estimator {font-family: monospace;background-color: #f0f8ff;border: 1px dotted black;border-radius: 0.25em;box-sizing: border-box;margin-bottom: 0.5em;}#sk-container-id-8 div.sk-estimator:hover {background-color: #d4ebff;}#sk-container-id-8 div.sk-parallel-item::after {content: \"\";width: 100%;border-bottom: 1px solid gray;flex-grow: 1;}#sk-container-id-8 div.sk-label:hover label.sk-toggleable__label {background-color: #d4ebff;}#sk-container-id-8 div.sk-serial::before {content: \"\";position: absolute;border-left: 1px solid gray;box-sizing: border-box;top: 0;bottom: 0;left: 50%;z-index: 0;}#sk-container-id-8 div.sk-serial {display: flex;flex-direction: column;align-items: center;background-color: white;padding-right: 0.2em;padding-left: 0.2em;position: relative;}#sk-container-id-8 div.sk-item {position: relative;z-index: 1;}#sk-container-id-8 div.sk-parallel {display: flex;align-items: stretch;justify-content: center;background-color: white;position: relative;}#sk-container-id-8 div.sk-item::before, #sk-container-id-8 div.sk-parallel-item::before {content: \"\";position: absolute;border-left: 1px solid gray;box-sizing: border-box;top: 0;bottom: 0;left: 50%;z-index: -1;}#sk-container-id-8 div.sk-parallel-item {display: flex;flex-direction: column;z-index: 1;position: relative;background-color: white;}#sk-container-id-8 div.sk-parallel-item:first-child::after {align-self: flex-end;width: 50%;}#sk-container-id-8 div.sk-parallel-item:last-child::after {align-self: flex-start;width: 50%;}#sk-container-id-8 div.sk-parallel-item:only-child::after {width: 0;}#sk-container-id-8 div.sk-dashed-wrapped {border: 1px dashed gray;margin: 0 0.4em 0.5em 0.4em;box-sizing: border-box;padding-bottom: 0.4em;background-color: white;}#sk-container-id-8 div.sk-label label {font-family: monospace;font-weight: bold;display: inline-block;line-height: 1.2em;}#sk-container-id-8 div.sk-label-container {text-align: center;}#sk-container-id-8 div.sk-container {/* jupyter's `normalize.less` sets `[hidden] { display: none; }` but bootstrap.min.css set `[hidden] { display: none !important; }` so we also need the `!important` here to be able to override the default hidden behavior on the sphinx rendered scikit-learn.org. See: https://github.com/scikit-learn/scikit-learn/issues/21755 */display: inline-block !important;position: relative;}#sk-container-id-8 div.sk-text-repr-fallback {display: none;}</style><div id=\"sk-container-id-8\" class=\"sk-top-container\"><div class=\"sk-text-repr-fallback\"><pre>LogisticRegression()</pre><b>In a Jupyter environment, please rerun this cell to show the HTML representation or trust the notebook. <br />On GitHub, the HTML representation is unable to render, please try loading this page with nbviewer.org.</b></div><div class=\"sk-container\" hidden><div class=\"sk-item\"><div class=\"sk-estimator sk-toggleable\"><input class=\"sk-toggleable__control sk-hidden--visually\" id=\"sk-estimator-id-8\" type=\"checkbox\" checked><label for=\"sk-estimator-id-8\" class=\"sk-toggleable__label sk-toggleable__label-arrow\">LogisticRegression</label><div class=\"sk-toggleable__content\"><pre>LogisticRegression()</pre></div></div></div></div></div>"
            ]
          },
          "metadata": {},
          "execution_count": 48
        }
      ],
      "source": [
        "import numpy as np\n",
        "import pandas as pd\n",
        "import seaborn as sns\n",
        "import matplotlib.pyplot as plt\n",
        "from sklearn.model_selection import train_test_split\n",
        "from sklearn.linear_model import LogisticRegression\n",
        "from sklearn.metrics import confusion_matrix, classification_report\n",
        "from sklearn.preprocessing import StandardScaler, MinMaxScaler\n",
        "from tabulate import tabulate #solo para la interpretacino de coeficientes\n",
        "\n",
        "# Simular algunos datos\n",
        "np.random.seed(0)\n",
        "n_samples = 500\n",
        "data = pd.DataFrame({\n",
        "    'hours_per_week': np.random.normal(10, 2, n_samples),\n",
        "    'evaluations_completed': np.random.randint(1, 5, n_samples),\n",
        "    'exam_scores': np.random.randint(50, 100, n_samples),\n",
        "    'forum_participation': np.random.randint(0, 10, n_samples),\n",
        "    'dropped_out': np.random.choice([0, 1], n_samples)  # 1 indica abandono\n",
        "})\n",
        "\n",
        "print(\"Data SIN procesamiento\")\n",
        "print(data.head())\n",
        "\n",
        "# Pre-procesamiento de data\n",
        "# Para este ejemplo, no fue necesario preparar una limpieza de estos tipos\n",
        "# scaler_standard = StandardScaler()\n",
        "# df = df.dropna()\n",
        "# df = df.fillna(0)\n",
        "scaler_normal = MinMaxScaler()\n",
        "\n",
        "data['hours_per_week_prepro'] = scaler_normal.fit_transform(data[['hours_per_week']])\n",
        "data['evaluations_completed_prepro'] = scaler_normal.fit_transform(data[['evaluations_completed']])\n",
        "data['exam_scores_prepro'] = data['exam_scores']/100.0\n",
        "data['forum_participation_prepro'] = scaler_normal.fit_transform(data[['forum_participation']])\n",
        "\n",
        "print(\"\\n -- Data CON PRE-PROCESAMIENTO\")\n",
        "print(data.head())\n",
        "\n",
        "# Dividir los datos en variables independientes (X) y la variable dependiente (y)\n",
        "X = data[['hours_per_week_prepro', 'evaluations_completed_prepro', 'exam_scores_prepro', 'forum_participation_prepro']]\n",
        "y = data['dropped_out']\n",
        "\n",
        "# Dividir los datos en conjunto de entrenamiento y prueba\n",
        "X_train, X_test, y_train, y_test = train_test_split(X, y, test_size=0.2, random_state=42)\n",
        "\n",
        "# Crear y entrenar el modelo de regresión logística\n",
        "model = LogisticRegression()\n",
        "model.fit(X_train, y_train)"
      ]
    },
    {
      "cell_type": "markdown",
      "source": [
        "## Evaluacion del Modelo"
      ],
      "metadata": {
        "id": "DlTy2clcUOHf"
      }
    },
    {
      "cell_type": "code",
      "source": [
        "# Predecir los resultados sobre el conjunto de prueba\n",
        "y_pred = model.predict(X_test)\n",
        "\n",
        "# Evaluar el modelo\n",
        "\n",
        "# Visualizar la matriz de confusión con seaborn\n",
        "print(\"Matriz de confusión:\")\n",
        "cm = confusion_matrix(y_test, y_pred)\n",
        "plt.figure(figsize=(8, 6))\n",
        "sns.heatmap(cm, annot=True, fmt='d', cmap='Blues', xticklabels=['No Abandona', 'Abandona'], yticklabels=['No Abandona', 'Abandona'])\n",
        "plt.xlabel('Predicción')\n",
        "plt.ylabel('Real')\n",
        "plt.title('Matriz de Confusión')\n",
        "plt.show()\n",
        "\n",
        "print(confusion_matrix(y_test, y_pred))\n",
        "\n",
        "print(\"\\nReporte de clasificación:\")\n",
        "print(classification_report(y_test, y_pred))"
      ],
      "metadata": {
        "colab": {
          "base_uri": "https://localhost:8080/",
          "height": 807
        },
        "id": "aYfnV8diUUZD",
        "outputId": "2c32827e-f392-4103-f3f3-8d343023843d"
      },
      "execution_count": null,
      "outputs": [
        {
          "output_type": "stream",
          "name": "stdout",
          "text": [
            "Matriz de confusión:\n"
          ]
        },
        {
          "output_type": "display_data",
          "data": {
            "text/plain": [
              "<Figure size 800x600 with 2 Axes>"
            ],
            "image/png": "[encoded data removed]"
          },
          "metadata": {}
        },
        {
          "output_type": "stream",
          "name": "stdout",
          "text": [
            "[[32 17]\n",
            " [38 13]]\n",
            "\n",
            "Reporte de clasificación:\n",
            "              precision    recall  f1-score   support\n",
            "\n",
            "           0       0.46      0.65      0.54        49\n",
            "           1       0.43      0.25      0.32        51\n",
            "\n",
            "    accuracy                           0.45       100\n",
            "   macro avg       0.45      0.45      0.43       100\n",
            "weighted avg       0.45      0.45      0.43       100\n",
            "\n"
          ]
        }
      ]
    },
    {
      "cell_type": "markdown",
      "source": [
        "### Interpretación de resultados:\n",
        "**Matriz de Confusión**\n",
        "* Precision.- Porcentaje de predicciones de abandono correctas sobre el total de abandono.\n",
        "* Exhausitivad (Recall).- Porcentaje de abandonos correctamente predichos sobre el total de estudiantes que abandonaron.\n",
        "* Puntaje F1 .- Combinación de precisión y exhaustividad en un solo número.\n",
        "* \"Support\" .- Los datos reales de los resultados."
      ],
      "metadata": {
        "id": "58KeuptwfrBK"
      }
    },
    {
      "cell_type": "markdown",
      "source": [
        "**Coeficientes del Modelo**"
      ],
      "metadata": {
        "id": "N6KeOnhAolON"
      }
    },
    {
      "cell_type": "code",
      "source": [
        "# Obtener los coeficientes y el intercepto desde el modelo\n",
        "coefficients = model.coef_[0]  # Coefficients for the features\n",
        "intercept = model.intercept_[0]  # Intercept (bias term)\n",
        "\n",
        "# Imprimir los coeficientes y el intercepto\n",
        "print(\"Intercept (bias term):\", intercept)\n",
        "print(\"Coefficients for each feature:\", coefficients)\n",
        "\n",
        "# Impresion mas ordenada de los datos\n",
        "datos = []\n",
        "for feature, coef in zip(X.columns, coefficients):\n",
        "    datos.append([feature,coef])\n",
        "    #print(f\"Feature: {feature}, Coefficient: \\t{coef}\")\n",
        "\n",
        "print(tabulate(datos, headers=[\"Feature\", \"Cuefficient\"], tablefmt=\"grid\"))"
      ],
      "metadata": {
        "colab": {
          "base_uri": "https://localhost:8080/"
        },
        "id": "kDSSp0Q_lPJ4",
        "outputId": "b6b9cce0-a6de-4ee7-c0df-a4455e361063"
      },
      "execution_count": null,
      "outputs": [
        {
          "output_type": "stream",
          "name": "stdout",
          "text": [
            "Intercept (bias term): -0.7692183563472353\n",
            "Coefficients for each feature: [ 0.60988553 -0.07049571  0.67336892 -0.13870337]\n",
            "+------------------------------+---------------+\n",
            "| Feature                      |   Cuefficient |\n",
            "+==============================+===============+\n",
            "| hours_per_week_prepro        |     0.609886  |\n",
            "+------------------------------+---------------+\n",
            "| evaluations_completed_prepro |    -0.0704957 |\n",
            "+------------------------------+---------------+\n",
            "| exam_scores_prepro           |     0.673369  |\n",
            "+------------------------------+---------------+\n",
            "| forum_participation_prepro   |    -0.138703  |\n",
            "+------------------------------+---------------+\n"
          ]
        }
      ]
    },
    {
      "cell_type": "markdown",
      "source": [
        "* Coeficientes **positivos** indican comportamiento directamente proporcional respecto a la variable resultado positivo (salir del curso en este caso)\n",
        "* Coeficientes **negativos** indican comportamiento inversamente proporcional respecto a la variable resultado positivo"
      ],
      "metadata": {
        "id": "RCYJ4niqpM7B"
      }
    },
    {
      "cell_type": "markdown",
      "source": [
        "## Predicción de Abandono"
      ],
      "metadata": {
        "id": "BCNN9YlTTsWW"
      }
    },
    {
      "cell_type": "code",
      "source": [
        "def hacer_prediccion(modelo, datos_nuevos):\n",
        "    # Asegurarse de que los datos ingresados tengan la misma forma que los datos de entrenamiento\n",
        "    datos_df = pd.DataFrame([datos_nuevos], columns=['hours_per_week_prepro', 'evaluations_completed_prepro', 'exam_scores_prepro', 'forum_participation_prepro'])\n",
        "\n",
        "    '''\n",
        "    # OJO, \"no se puede\" Normalizar los datos ingresados\n",
        "    scaler_normal = MinMaxScaler()\n",
        "    datos_df['hours_per_week_prepro'] = scaler_normal.fit_transform(datos_df[['hours_per_week']])\n",
        "    datos_df['evaluations_completed_prepro'] = scaler_normal.fit_transform(datos_df[['evaluations_completed']])\n",
        "    datos_df['exam_scores_prepro'] = datos_df['exam_scores']/100.0\n",
        "    datos_df['forum_participation_prepro'] = scaler_normal.fit_transform(datos_df[['forum_participation']])\n",
        "    datos_df = datos_df.drop(columns=['hours_per_week', 'evaluations_completed', 'exam_scores', 'forum_participation'])\n",
        "    '''\n",
        "\n",
        "    # Realizar la predicción\n",
        "    prediccion = modelo.predict(datos_df)\n",
        "\n",
        "    # Mostrar el resultado\n",
        "    if prediccion[0] == 1:\n",
        "        print(\"El estudiante abandonará el curso.\")\n",
        "    else:\n",
        "        print(\"El estudiante completará el curso.\")\n",
        "\n",
        "# Ejemplo de predicción con nuevos datos\n",
        "# datos que DEBEN ESTAR Normalizados (Es decir, para este caso, encontrarse de 0 a 1)\n",
        "nuevo_estudiante = {\n",
        "    'hours_per_week_prepro': 0.8,  # porcentaje de horas dedicadas semanalmente\n",
        "    'evaluations_completed_prepro': 0.3,  # porcentaje de evaluaciones completadas\n",
        "    'exam_scores_prepro': 0.75,  # nota promedio de las primeras calificaciones obtenidas\n",
        "    'forum_participation_prepro': 0.5  # porcentaje de participación en foros\n",
        "}\n",
        "\n",
        "hacer_prediccion(model, nuevo_estudiante)\n"
      ],
      "metadata": {
        "colab": {
          "base_uri": "https://localhost:8080/"
        },
        "id": "EH_kLVSQTwm6",
        "outputId": "b4afa118-d86e-4153-d6d7-9c162d230b2e"
      },
      "execution_count": null,
      "outputs": [
        {
          "output_type": "stream",
          "name": "stdout",
          "text": [
            "El estudiante abandonará el curso.\n"
          ]
        }
      ]
    },
    {
      "cell_type": "markdown",
      "source": [
        "# Prueba de Predicción en escenario Real\n",
        "Dataset usado\n",
        "https://www.kaggle.com/datasets/rabieelkharoua/predict-online-course-engagement-dataset\n",
        "\n"
      ],
      "metadata": {
        "id": "5AYY9gtmC8Oi"
      }
    },
    {
      "cell_type": "code",
      "source": [
        "import joblib\n",
        "df = pd.read_csv('online_course_engagement_data.csv')\n",
        "\n",
        "print(\"Data SIN procesamiento\")\n",
        "print(df.head())\n",
        "\n",
        "#Eliminacion de columnas innecesarias\n",
        "df = df.drop(columns=['CourseCategory','DeviceType', 'UserID'])\n",
        "print(df.head())\n",
        "print(df.columns)\n",
        "\n",
        "# Pre-procesamiento de data\n",
        "df = df.dropna()\n",
        "# df = df.fillna(0)\n",
        "scaler_standard = StandardScaler()\n",
        "scaler_normal = MinMaxScaler()\n",
        "\n",
        "# Estandarizacion de TimeSpentOnCourse, NumberOfVideosWatched y NumberOfQuizzesTaken\n",
        "#features_to_standardize = ['TimeSpentOnCourse', 'NumberOfVideosWatched', 'NumberOfQuizzesTaken']\n",
        "#df_standard = scaler_standard.fit_transform(df[features_to_standardize])\n",
        "\n",
        "#df[['TimeSpentOnCourse_prepro', 'NumberOfVideosWatched_prepro', 'NumberOfQuizzesTaken_prepro']] = df_standard #Transportar dicha estandarizacion al dataframe original\n",
        "\n",
        "# Guardar el scaler standar para usarlo luego\n",
        "joblib.dump(scaler_standard, 'scaler_standard.pkl')\n",
        "\n",
        "# Normalizacion de QuizScores y CompletionRate\n",
        "df[['QuizScores_prepro', 'CompletionRate_prepro', 'TimeSpentOnCourse_prepro', 'NumberOfVideosWatched_prepro', 'NumberOfQuizzesTaken_prepro']] = scaler_normal.fit_transform(df[['QuizScores', 'CompletionRate', 'TimeSpentOnCourse', 'NumberOfVideosWatched', 'NumberOfQuizzesTaken']])\n",
        "\n",
        "# Guardar el scaler normal para usarlo luego\n",
        "joblib.dump(scaler_normal, 'scaler_normal.pkl')\n",
        "\n",
        "print(\"\\n -- Data CON PRE-PROCESAMIENTO\")\n",
        "print(df.head())\n",
        "\n",
        "# Dividir los datos en variables independientes (X) y la variable dependiente (y)\n",
        "X = df[['TimeSpentOnCourse_prepro', 'NumberOfVideosWatched_prepro', 'NumberOfQuizzesTaken_prepro', 'QuizScores_prepro', 'CompletionRate_prepro']]\n",
        "y = df['CourseCompletion']\n",
        "\n",
        "# Dividir los datos en conjunto de entrenamiento y prueba\n",
        "X_train, X_test, y_train, y_test = train_test_split(X, y, test_size=0.2, random_state=30)\n",
        "\n",
        "# Crear y entrenar el modelo de regresión logística\n",
        "modelReal = LogisticRegression()\n",
        "modelReal.fit(X_train, y_train)"
      ],
      "metadata": {
        "colab": {
          "base_uri": "https://localhost:8080/",
          "height": 1000
        },
        "collapsed": true,
        "id": "EHKNq03XmD3I",
        "outputId": "0da89836-47ff-49d3-b32a-46cf6a5925db"
      },
      "execution_count": null,
      "outputs": [
        {
          "output_type": "stream",
          "name": "stdout",
          "text": [
            "Data SIN procesamiento\n",
            "   UserID CourseCategory  TimeSpentOnCourse  NumberOfVideosWatched  \\\n",
            "0    5618         Health          29.979719                     17   \n",
            "1    4326           Arts          27.802640                      1   \n",
            "2    5849           Arts          86.820485                     14   \n",
            "3    4992        Science          35.038427                     17   \n",
            "4    3866    Programming          92.490647                     16   \n",
            "\n",
            "   NumberOfQuizzesTaken  QuizScores  CompletionRate  DeviceType  \\\n",
            "0                     3   50.365656       20.860773           1   \n",
            "1                     5   62.615970       65.632415           1   \n",
            "2                     2   78.458962       63.812007           1   \n",
            "3                    10   59.198853       95.433162           0   \n",
            "4                     0   98.428285       18.102478           0   \n",
            "\n",
            "   CourseCompletion  \n",
            "0                 0  \n",
            "1                 0  \n",
            "2                 1  \n",
            "3                 1  \n",
            "4                 0  \n",
            "   TimeSpentOnCourse  NumberOfVideosWatched  NumberOfQuizzesTaken  QuizScores  \\\n",
            "0          29.979719                     17                     3   50.365656   \n",
            "1          27.802640                      1                     5   62.615970   \n",
            "2          86.820485                     14                     2   78.458962   \n",
            "3          35.038427                     17                    10   59.198853   \n",
            "4          92.490647                     16                     0   98.428285   \n",
            "\n",
            "   CompletionRate  CourseCompletion  \n",
            "0       20.860773                 0  \n",
            "1       65.632415                 0  \n",
            "2       63.812007                 1  \n",
            "3       95.433162                 1  \n",
            "4       18.102478                 0  \n",
            "Index(['TimeSpentOnCourse', 'NumberOfVideosWatched', 'NumberOfQuizzesTaken',\n",
            "       'QuizScores', 'CompletionRate', 'CourseCompletion'],\n",
            "      dtype='object')\n",
            "\n",
            " -- Data CON PRE-PROCESAMIENTO\n",
            "   TimeSpentOnCourse  NumberOfVideosWatched  NumberOfQuizzesTaken  QuizScores  \\\n",
            "0          29.979719                     17                     3   50.365656   \n",
            "1          27.802640                      1                     5   62.615970   \n",
            "2          86.820485                     14                     2   78.458962   \n",
            "3          35.038427                     17                    10   59.198853   \n",
            "4          92.490647                     16                     0   98.428285   \n",
            "\n",
            "   CompletionRate  CourseCompletion  QuizScores_prepro  CompletionRate_prepro  \\\n",
            "0       20.860773                 0           0.007212               0.208576   \n",
            "1       65.632415                 0           0.252268               0.656425   \n",
            "2       63.812007                 1           0.569192               0.638216   \n",
            "3       95.433162                 1           0.183912               0.954521   \n",
            "4       18.102478                 0           0.968660               0.180985   \n",
            "\n",
            "   TimeSpentOnCourse_prepro  NumberOfVideosWatched_prepro  \\\n",
            "0                  0.292709                          0.85   \n",
            "1                  0.270716                          0.05   \n",
            "2                  0.866932                          0.70   \n",
            "3                  0.343814                          0.85   \n",
            "4                  0.924213                          0.80   \n",
            "\n",
            "   NumberOfQuizzesTaken_prepro  \n",
            "0                          0.3  \n",
            "1                          0.5  \n",
            "2                          0.2  \n",
            "3                          1.0  \n",
            "4                          0.0  \n"
          ]
        },
        {
          "output_type": "execute_result",
          "data": {
            "text/plain": [
              "LogisticRegression()"
            ],
            "text/html": [
              "<style>#sk-container-id-13 {color: black;}#sk-container-id-13 pre{padding: 0;}#sk-container-id-13 div.sk-toggleable {background-color: white;}#sk-container-id-13 label.sk-toggleable__label {cursor: pointer;display: block;width: 100%;margin-bottom: 0;padding: 0.3em;box-sizing: border-box;text-align: center;}#sk-container-id-13 label.sk-toggleable__label-arrow:before {content: \"▸\";float: left;margin-right: 0.25em;color: #696969;}#sk-container-id-13 label.sk-toggleable__label-arrow:hover:before {color: black;}#sk-container-id-13 div.sk-estimator:hover label.sk-toggleable__label-arrow:before {color: black;}#sk-container-id-13 div.sk-toggleable__content {max-height: 0;max-width: 0;overflow: hidden;text-align: left;background-color: #f0f8ff;}#sk-container-id-13 div.sk-toggleable__content pre {margin: 0.2em;color: black;border-radius: 0.25em;background-color: #f0f8ff;}#sk-container-id-13 input.sk-toggleable__control:checked~div.sk-toggleable__content {max-height: 200px;max-width: 100%;overflow: auto;}#sk-container-id-13 input.sk-toggleable__control:checked~label.sk-toggleable__label-arrow:before {content: \"▾\";}#sk-container-id-13 div.sk-estimator input.sk-toggleable__control:checked~label.sk-toggleable__label {background-color: #d4ebff;}#sk-container-id-13 div.sk-label input.sk-toggleable__control:checked~label.sk-toggleable__label {background-color: #d4ebff;}#sk-container-id-13 input.sk-hidden--visually {border: 0;clip: rect(1px 1px 1px 1px);clip: rect(1px, 1px, 1px, 1px);height: 1px;margin: -1px;overflow: hidden;padding: 0;position: absolute;width: 1px;}#sk-container-id-13 div.sk-estimator {font-family: monospace;background-color: #f0f8ff;border: 1px dotted black;border-radius: 0.25em;box-sizing: border-box;margin-bottom: 0.5em;}#sk-container-id-13 div.sk-estimator:hover {background-color: #d4ebff;}#sk-container-id-13 div.sk-parallel-item::after {content: \"\";width: 100%;border-bottom: 1px solid gray;flex-grow: 1;}#sk-container-id-13 div.sk-label:hover label.sk-toggleable__label {background-color: #d4ebff;}#sk-container-id-13 div.sk-serial::before {content: \"\";position: absolute;border-left: 1px solid gray;box-sizing: border-box;top: 0;bottom: 0;left: 50%;z-index: 0;}#sk-container-id-13 div.sk-serial {display: flex;flex-direction: column;align-items: center;background-color: white;padding-right: 0.2em;padding-left: 0.2em;position: relative;}#sk-container-id-13 div.sk-item {position: relative;z-index: 1;}#sk-container-id-13 div.sk-parallel {display: flex;align-items: stretch;justify-content: center;background-color: white;position: relative;}#sk-container-id-13 div.sk-item::before, #sk-container-id-13 div.sk-parallel-item::before {content: \"\";position: absolute;border-left: 1px solid gray;box-sizing: border-box;top: 0;bottom: 0;left: 50%;z-index: -1;}#sk-container-id-13 div.sk-parallel-item {display: flex;flex-direction: column;z-index: 1;position: relative;background-color: white;}#sk-container-id-13 div.sk-parallel-item:first-child::after {align-self: flex-end;width: 50%;}#sk-container-id-13 div.sk-parallel-item:last-child::after {align-self: flex-start;width: 50%;}#sk-container-id-13 div.sk-parallel-item:only-child::after {width: 0;}#sk-container-id-13 div.sk-dashed-wrapped {border: 1px dashed gray;margin: 0 0.4em 0.5em 0.4em;box-sizing: border-box;padding-bottom: 0.4em;background-color: white;}#sk-container-id-13 div.sk-label label {font-family: monospace;font-weight: bold;display: inline-block;line-height: 1.2em;}#sk-container-id-13 div.sk-label-container {text-align: center;}#sk-container-id-13 div.sk-container {/* jupyter's `normalize.less` sets `[hidden] { display: none; }` but bootstrap.min.css set `[hidden] { display: none !important; }` so we also need the `!important` here to be able to override the default hidden behavior on the sphinx rendered scikit-learn.org. See: https://github.com/scikit-learn/scikit-learn/issues/21755 */display: inline-block !important;position: relative;}#sk-container-id-13 div.sk-text-repr-fallback {display: none;}</style><div id=\"sk-container-id-13\" class=\"sk-top-container\"><div class=\"sk-text-repr-fallback\"><pre>LogisticRegression()</pre><b>In a Jupyter environment, please rerun this cell to show the HTML representation or trust the notebook. <br />On GitHub, the HTML representation is unable to render, please try loading this page with nbviewer.org.</b></div><div class=\"sk-container\" hidden><div class=\"sk-item\"><div class=\"sk-estimator sk-toggleable\"><input class=\"sk-toggleable__control sk-hidden--visually\" id=\"sk-estimator-id-13\" type=\"checkbox\" checked><label for=\"sk-estimator-id-13\" class=\"sk-toggleable__label sk-toggleable__label-arrow\">LogisticRegression</label><div class=\"sk-toggleable__content\"><pre>LogisticRegression()</pre></div></div></div></div></div>"
            ]
          },
          "metadata": {},
          "execution_count": 86
        }
      ]
    },
    {
      "cell_type": "code",
      "source": [
        "# Predecir los resultados sobre el conjunto de prueba\n",
        "y_pred = modelReal.predict(X_test)\n",
        "\n",
        "# Evaluar el modelo\n",
        "\n",
        "# Visualizar la matriz de confusión con seaborn\n",
        "print(\"Matriz de confusión:\")\n",
        "cm = confusion_matrix(y_test, y_pred)\n",
        "plt.figure(figsize=(8, 6))\n",
        "sns.heatmap(cm, annot=True, fmt='d', cmap='Blues', xticklabels=['Abandona', 'No Abandona'], yticklabels=['Abandona', 'No Abandona'])\n",
        "plt.xlabel('Predicción')\n",
        "plt.ylabel('Real')\n",
        "plt.title('Matriz de Confusión')\n",
        "plt.show()\n",
        "\n",
        "print(confusion_matrix(y_test, y_pred))\n",
        "\n",
        "print(\"\\nReporte de clasificación:\")\n",
        "print(classification_report(y_test, y_pred))"
      ],
      "metadata": {
        "colab": {
          "base_uri": "https://localhost:8080/",
          "height": 807
        },
        "id": "4VyGO0LKpTEQ",
        "outputId": "6ed06f3a-db6e-4ad9-86e4-1ed00f3217fd"
      },
      "execution_count": null,
      "outputs": [
        {
          "output_type": "stream",
          "name": "stdout",
          "text": [
            "Matriz de confusión:\n"
          ]
        },
        {
          "output_type": "display_data",
          "data": {
            "text/plain": [
              "<Figure size 800x600 with 2 Axes>"
            ],
            "image/png": "[encoded data removed]"
          },
          "metadata": {}
        },
        {
          "output_type": "stream",
          "name": "stdout",
          "text": [
            "[[914 159]\n",
            " [205 522]]\n",
            "\n",
            "Reporte de clasificación:\n",
            "              precision    recall  f1-score   support\n",
            "\n",
            "           0       0.82      0.85      0.83      1073\n",
            "           1       0.77      0.72      0.74       727\n",
            "\n",
            "    accuracy                           0.80      1800\n",
            "   macro avg       0.79      0.78      0.79      1800\n",
            "weighted avg       0.80      0.80      0.80      1800\n",
            "\n"
          ]
        }
      ]
    },
    {
      "cell_type": "code",
      "source": [
        "# Obtener los coeficientes y el intercepto desde el modelo\n",
        "coefficients = modelReal.coef_[0]  # Coefficients for the features\n",
        "intercept = modelReal.intercept_[0]  # Intercept (bias term)\n",
        "\n",
        "# Imprimir los coeficientes y el intercepto\n",
        "print(\"Intercept (bias term):\", intercept)\n",
        "print(\"Coefficients for each feature:\", coefficients)\n",
        "\n",
        "# Impresion mas ordenada de los datos\n",
        "datos = []\n",
        "for feature, coef in zip(X.columns, coefficients):\n",
        "    datos.append([feature,coef])\n",
        "    #print(f\"Feature: {feature}, Coefficient: \\t{coef}\")\n",
        "\n",
        "print(tabulate(datos, headers=[\"Feature\", \"Cuefficient\"], tablefmt=\"grid\"))"
      ],
      "metadata": {
        "colab": {
          "base_uri": "https://localhost:8080/"
        },
        "id": "gAs5cVRzqFhl",
        "outputId": "9c0e2e08-2d95-46a4-e700-0747f71cd920"
      },
      "execution_count": null,
      "outputs": [
        {
          "output_type": "stream",
          "name": "stdout",
          "text": [
            "Intercept (bias term): -8.112617315259493\n",
            "Coefficients for each feature: [1.99982826 2.58250004 3.04258601 3.58030555 3.60340481]\n",
            "+------------------------------+---------------+\n",
            "| Feature                      |   Cuefficient |\n",
            "+==============================+===============+\n",
            "| TimeSpentOnCourse_prepro     |       1.99983 |\n",
            "+------------------------------+---------------+\n",
            "| NumberOfVideosWatched_prepro |       2.5825  |\n",
            "+------------------------------+---------------+\n",
            "| NumberOfQuizzesTaken_prepro  |       3.04259 |\n",
            "+------------------------------+---------------+\n",
            "| QuizScores_prepro            |       3.58031 |\n",
            "+------------------------------+---------------+\n",
            "| CompletionRate_prepro        |       3.6034  |\n",
            "+------------------------------+---------------+\n"
          ]
        }
      ]
    },
    {
      "cell_type": "markdown",
      "source": [
        "## Prediccion de Abandono Real"
      ],
      "metadata": {
        "id": "HA4c9GKzplUc"
      }
    },
    {
      "cell_type": "code",
      "source": [
        "def hacer_prediccionReal(modelo, datos_nuevos):\n",
        "    # Load the saved scalers\n",
        "    scaler_standard = joblib.load('scaler_standard.pkl')\n",
        "    scaler_normal = joblib.load('scaler_normal.pkl')\n",
        "\n",
        "    # Create DataFrame for the new data\n",
        "    datos_df = pd.DataFrame([datos_nuevos], columns=[\n",
        "        'TimeSpentOnCourse', 'NumberOfVideosWatched', 'NumberOfQuizzesTaken', 'QuizScores', 'CompletionRate'\n",
        "    ])\n",
        "\n",
        "    # Estandarizacion de TimeSpentOnCourse, NumberOfVideosWatched y NumberOfQuizzesTaken\n",
        "    #features_to_standardize = ['TimeSpentOnCourse', 'NumberOfVideosWatched', 'NumberOfQuizzesTaken']\n",
        "    #df_standard = scaler_standard.transform(datos_df[features_to_standardize])\n",
        "    #datos_df[['TimeSpentOnCourse_prepro', 'NumberOfVideosWatched_prepro', 'NumberOfQuizzesTaken_prepro']] = df_standard\n",
        "\n",
        "    # Normalizacion de QuizScores y CompletionRate\n",
        "    datos_df[['QuizScores_prepro', 'CompletionRate_prepro', 'TimeSpentOnCourse_prepro', 'NumberOfVideosWatched_prepro', 'NumberOfQuizzesTaken_prepro']] = scaler_normal.transform(datos_df[['QuizScores', 'CompletionRate', 'TimeSpentOnCourse', 'NumberOfVideosWatched', 'NumberOfQuizzesTaken']])\n",
        "\n",
        "    print(datos_df.head())\n",
        "\n",
        "    # Make the prediction using the preprocessed data\n",
        "    prediccion = modelo.predict(datos_df[['TimeSpentOnCourse_prepro', 'NumberOfVideosWatched_prepro', 'NumberOfQuizzesTaken_prepro', 'QuizScores_prepro', 'CompletionRate_prepro']])\n",
        "\n",
        "    # Display the result\n",
        "    if prediccion[0] == 1:\n",
        "        print(\"El estudiante SI terminará el curso.\")\n",
        "    else:\n",
        "        print(\"El estudiante NO completará el curso.\")\n",
        "\n",
        "# Ejemplo de nueva data\n",
        "nuevo_estudiante = {\n",
        "    'TimeSpentOnCourse': 30,      # Tiempo invertido por el usuario en horas\n",
        "    'NumberOfVideosWatched': 20,  # Valor de 0 a 20\n",
        "    'NumberOfQuizzesTaken': 10,   # Numero de 0 a 10 maximo\n",
        "    'QuizScores': 70,             # Puntaje porcentual (basado en el dataset, valor minimo de 50)\n",
        "    'CompletionRate': 98           # Valor porcentual de completitu del curso\n",
        "}\n",
        "\n",
        "hacer_prediccionReal(modelReal, nuevo_estudiante)\n"
      ],
      "metadata": {
        "colab": {
          "base_uri": "https://localhost:8080/"
        },
        "id": "-Os7tYLYpkdG",
        "outputId": "69d29058-a2c5-467b-cf07-56d16c428fa5"
      },
      "execution_count": null,
      "outputs": [
        {
          "output_type": "stream",
          "name": "stdout",
          "text": [
            "   TimeSpentOnCourse  NumberOfVideosWatched  NumberOfQuizzesTaken  QuizScores  \\\n",
            "0                 30                     20                    10          70   \n",
            "\n",
            "   CompletionRate  QuizScores_prepro  CompletionRate_prepro  \\\n",
            "0              98           0.399979               0.980197   \n",
            "\n",
            "   TimeSpentOnCourse_prepro  NumberOfVideosWatched_prepro  \\\n",
            "0                  0.292914                           1.0   \n",
            "\n",
            "   NumberOfQuizzesTaken_prepro  \n",
            "0                          1.0  \n",
            "El estudiante SI terminará el curso.\n"
          ]
        }
      ]
    }
  ]
}